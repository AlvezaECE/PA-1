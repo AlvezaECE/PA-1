{
 "cells": [
  {
   "cell_type": "code",
   "execution_count": 30,
   "id": "c8493c61-d76e-48a4-bf3f-ef3f7fdb9a0b",
   "metadata": {},
   "outputs": [
    {
     "name": "stdout",
     "output_type": "stream",
     "text": [
      "ehllo\n",
      "acehkr\n"
     ]
    }
   ],
   "source": [
    "#ALPHABET SOUP PROBLEM\n",
    "\n",
    "def alphabet_soup(s):\n",
    "    return ''.join(sorted(s))\n",
    "\n",
    "#Define and sort values\n",
    "sorted_string1 = alphabet_soup(\"hello\")\n",
    "sorted_string2 = alphabet_soup(\"hacker\")\n",
    "\n",
    "#Print the output\n",
    "print(sorted_string1)\n",
    "print(sorted_string2)"
   ]
  },
  {
   "cell_type": "code",
   "execution_count": 34,
   "id": "f9e6b59d-3672-4565-a5da-5026da5f55d0",
   "metadata": {},
   "outputs": [
    {
     "name": "stdout",
     "output_type": "stream",
     "text": [
      "Make me :)\n",
      "I am >:(\n"
     ]
    }
   ],
   "source": [
    "#EMOTICON PROBLEM\n",
    "\n",
    "def emotify(sentence):\n",
    "    #Define the emoticons\n",
    "    emoticons = {\n",
    "        \"smile\": \":)\",\n",
    "        \"grin\": \":D\",\n",
    "        \"sad\": \":((\",\n",
    "        \"mad\": \">:(\",\n",
    "    }\n",
    "    \n",
    "    words = sentence.split()\n",
    "    result = [emoticons[word] if word in emoticons else word for word in words]\n",
    "    return ' '.join(result)\n",
    "\n",
    "#Print the output\n",
    "print(emotify(\"Make me smile\"))\n",
    "print(emotify(\"I am mad\"))"
   ]
  },
  {
   "cell_type": "code",
   "execution_count": 38,
   "id": "f0b2a480-7648-457f-aab4-6086bbf86548",
   "metadata": {},
   "outputs": [
    {
     "name": "stdout",
     "output_type": "stream",
     "text": [
      "first: 1\n",
      "middle: [2, 3, 4, 5]\n",
      "last: 6\n"
     ]
    }
   ],
   "source": [
    "#UNPACKING LIST PROBLEM\n",
    "\n",
    "def unpack_list(lst):\n",
    "    #Unpacks the first, middle, and the last elements\n",
    "    first, *middle, last = lst\n",
    "    \n",
    "    #Print the output\n",
    "    print(f\"first: {first}\")\n",
    "    print(f\"middle: {middle}\")\n",
    "    print(f\"last: {last}\")\n",
    "\n",
    "#Define values\n",
    "lst = [1, 2, 3, 4, 5, 6]\n",
    "#Unpacks the values\n",
    "unpack_list(lst)"
   ]
  },
  {
   "cell_type": "code",
   "execution_count": null,
   "id": "3c063073-b5f2-4ca8-af2a-4b13befd4175",
   "metadata": {},
   "outputs": [],
   "source": []
  }
 ],
 "metadata": {
  "kernelspec": {
   "display_name": "Python 3 (ipykernel)",
   "language": "python",
   "name": "python3"
  },
  "language_info": {
   "codemirror_mode": {
    "name": "ipython",
    "version": 3
   },
   "file_extension": ".py",
   "mimetype": "text/x-python",
   "name": "python",
   "nbconvert_exporter": "python",
   "pygments_lexer": "ipython3",
   "version": "3.12.4"
  }
 },
 "nbformat": 4,
 "nbformat_minor": 5
}
